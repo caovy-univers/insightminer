{
 "cells": [
  {
   "cell_type": "code",
   "execution_count": 2,
   "id": "c99a87d9-faf2-433c-ad96-0d4f43fa1bc2",
   "metadata": {},
   "outputs": [
    {
     "name": "stdout",
     "output_type": "stream",
     "text": [
      "          id                                              title  \\\n",
      "0  0704.0001  Calculation of prompt diphoton production cros...   \n",
      "1  0704.0002           Sparsity-certifying Graph Decompositions   \n",
      "2  0704.0003  The evolution of the Earth-Moon system based o...   \n",
      "3  0704.0004  A determinant of Stirling cycle numbers counts...   \n",
      "4  0704.0005  From dyadic $\\Lambda_{\\alpha}$ to $\\Lambda_{\\a...   \n",
      "\n",
      "                                            abstract       categories  \\\n",
      "0    A fully differential calculation in perturba...           hep-ph   \n",
      "1    We describe a new algorithm, the $(k,\\ell)$-...    math.CO cs.CG   \n",
      "2    The evolution of Earth-Moon system is descri...   physics.gen-ph   \n",
      "3    We show that a determinant of Stirling cycle...          math.CO   \n",
      "4    In this paper we show how to compute the $\\L...  math.CA math.FA   \n",
      "\n",
      "                                             authors  \n",
      "0  C. Bal\\'azs, E. L. Berger, P. M. Nadolsky, C.-...  \n",
      "1                    Ileana Streinu and Louis Theran  \n",
      "2                                        Hongjun Pan  \n",
      "3                                       David Callan  \n",
      "4           Wael Abu-Shammala and Alberto Torchinsky  \n"
     ]
    }
   ],
   "source": [
    "import pandas as pd\n",
    "import json\n",
    "\n",
    "file_path = \"arxiv-metadata-oai-snapshot.json\"\n",
    "\n",
    "records = []\n",
    "\n",
    "with open(file_path, 'r', encoding='utf-8') as f:\n",
    "    for line in f:\n",
    "        record = json.loads(line)\n",
    "        selected_record = {\n",
    "            'id': record.get('id'),\n",
    "            'title': record.get('title'),\n",
    "            'abstract': record.get('abstract'),\n",
    "            'categories': record.get('categories'),\n",
    "            'authors': record.get('authors')  # Added here\n",
    "        }\n",
    "        records.append(selected_record)\n",
    "\n",
    "df = pd.DataFrame(records)\n",
    "\n",
    "print(df.head())"
   ]
  },
  {
   "cell_type": "code",
   "execution_count": 4,
   "id": "6587d6cc-2d6d-4da8-80fc-a4df160ffc3b",
   "metadata": {},
   "outputs": [
    {
     "name": "stdout",
     "output_type": "stream",
     "text": [
      "<class 'pandas.core.frame.DataFrame'>\n",
      "RangeIndex: 2781705 entries, 0 to 2781704\n",
      "Data columns (total 5 columns):\n",
      " #   Column      Dtype \n",
      "---  ------      ----- \n",
      " 0   id          object\n",
      " 1   title       object\n",
      " 2   abstract    object\n",
      " 3   categories  object\n",
      " 4   authors     object\n",
      "dtypes: object(5)\n",
      "memory usage: 106.1+ MB\n"
     ]
    }
   ],
   "source": [
    "df.info()"
   ]
  },
  {
   "cell_type": "code",
   "execution_count": 5,
   "id": "4cdc7e75-c4a7-4849-b002-3dacd37423bd",
   "metadata": {},
   "outputs": [
    {
     "data": {
      "text/html": [
       "<div>\n",
       "<style scoped>\n",
       "    .dataframe tbody tr th:only-of-type {\n",
       "        vertical-align: middle;\n",
       "    }\n",
       "\n",
       "    .dataframe tbody tr th {\n",
       "        vertical-align: top;\n",
       "    }\n",
       "\n",
       "    .dataframe thead th {\n",
       "        text-align: right;\n",
       "    }\n",
       "</style>\n",
       "<table border=\"1\" class=\"dataframe\">\n",
       "  <thead>\n",
       "    <tr style=\"text-align: right;\">\n",
       "      <th></th>\n",
       "      <th>id</th>\n",
       "      <th>title</th>\n",
       "      <th>abstract</th>\n",
       "      <th>categories</th>\n",
       "      <th>authors</th>\n",
       "    </tr>\n",
       "  </thead>\n",
       "  <tbody>\n",
       "    <tr>\n",
       "      <th>0</th>\n",
       "      <td>0704.0001</td>\n",
       "      <td>Calculation of prompt diphoton production cros...</td>\n",
       "      <td>A fully differential calculation in perturba...</td>\n",
       "      <td>hep-ph</td>\n",
       "      <td>C. Bal\\'azs, E. L. Berger, P. M. Nadolsky, C.-...</td>\n",
       "    </tr>\n",
       "    <tr>\n",
       "      <th>1</th>\n",
       "      <td>0704.0002</td>\n",
       "      <td>Sparsity-certifying Graph Decompositions</td>\n",
       "      <td>We describe a new algorithm, the $(k,\\ell)$-...</td>\n",
       "      <td>math.CO cs.CG</td>\n",
       "      <td>Ileana Streinu and Louis Theran</td>\n",
       "    </tr>\n",
       "    <tr>\n",
       "      <th>2</th>\n",
       "      <td>0704.0003</td>\n",
       "      <td>The evolution of the Earth-Moon system based o...</td>\n",
       "      <td>The evolution of Earth-Moon system is descri...</td>\n",
       "      <td>physics.gen-ph</td>\n",
       "      <td>Hongjun Pan</td>\n",
       "    </tr>\n",
       "    <tr>\n",
       "      <th>3</th>\n",
       "      <td>0704.0004</td>\n",
       "      <td>A determinant of Stirling cycle numbers counts...</td>\n",
       "      <td>We show that a determinant of Stirling cycle...</td>\n",
       "      <td>math.CO</td>\n",
       "      <td>David Callan</td>\n",
       "    </tr>\n",
       "    <tr>\n",
       "      <th>4</th>\n",
       "      <td>0704.0005</td>\n",
       "      <td>From dyadic $\\Lambda_{\\alpha}$ to $\\Lambda_{\\a...</td>\n",
       "      <td>In this paper we show how to compute the $\\L...</td>\n",
       "      <td>math.CA math.FA</td>\n",
       "      <td>Wael Abu-Shammala and Alberto Torchinsky</td>\n",
       "    </tr>\n",
       "  </tbody>\n",
       "</table>\n",
       "</div>"
      ],
      "text/plain": [
       "          id                                              title  \\\n",
       "0  0704.0001  Calculation of prompt diphoton production cros...   \n",
       "1  0704.0002           Sparsity-certifying Graph Decompositions   \n",
       "2  0704.0003  The evolution of the Earth-Moon system based o...   \n",
       "3  0704.0004  A determinant of Stirling cycle numbers counts...   \n",
       "4  0704.0005  From dyadic $\\Lambda_{\\alpha}$ to $\\Lambda_{\\a...   \n",
       "\n",
       "                                            abstract       categories  \\\n",
       "0    A fully differential calculation in perturba...           hep-ph   \n",
       "1    We describe a new algorithm, the $(k,\\ell)$-...    math.CO cs.CG   \n",
       "2    The evolution of Earth-Moon system is descri...   physics.gen-ph   \n",
       "3    We show that a determinant of Stirling cycle...          math.CO   \n",
       "4    In this paper we show how to compute the $\\L...  math.CA math.FA   \n",
       "\n",
       "                                             authors  \n",
       "0  C. Bal\\'azs, E. L. Berger, P. M. Nadolsky, C.-...  \n",
       "1                    Ileana Streinu and Louis Theran  \n",
       "2                                        Hongjun Pan  \n",
       "3                                       David Callan  \n",
       "4           Wael Abu-Shammala and Alberto Torchinsky  "
      ]
     },
     "execution_count": 5,
     "metadata": {},
     "output_type": "execute_result"
    }
   ],
   "source": [
    "df.head(5)"
   ]
  },
  {
   "cell_type": "code",
   "execution_count": 7,
   "id": "1667c456-bc27-44c6-9165-39bd4021fcbc",
   "metadata": {},
   "outputs": [],
   "source": [
    "df.to_csv(\"arxiv_metadata_clean.csv\", index=False)"
   ]
  },
  {
   "cell_type": "code",
   "execution_count": 3,
   "id": "bfc91ca6-fb3c-4b73-a935-1197eaa8cc48",
   "metadata": {},
   "outputs": [
    {
     "name": "stderr",
     "output_type": "stream",
     "text": [
      "C:\\Users\\91873\\AppData\\Local\\Temp\\ipykernel_14216\\3999109058.py:3: DtypeWarning: Columns (0) have mixed types. Specify dtype option on import or set low_memory=False.\n",
      "  df = pd.read_csv(\"arxiv_metadata_clean.csv\")\n"
     ]
    },
    {
     "name": "stdout",
     "output_type": "stream",
     "text": [
      "Saved arxiv_metadata_10000.csv with 10,000 rows.\n"
     ]
    }
   ],
   "source": [
    "import pandas as pd\n",
    "# Load full dataset\n",
    "df = pd.read_csv(\"arxiv_metadata_clean.csv\")\n",
    "\n",
    "# Select the first 10,000 rows\n",
    "df_small = df.iloc[:10000]\n",
    "\n",
    "# Save as a new CSV\n",
    "df_small.to_csv(\"arxiv_metadata_10000.csv\", index=False)\n",
    "\n",
    "print(\"Saved arxiv_metadata_10000.csv with 10,000 rows.\")"
   ]
  },
  {
   "cell_type": "code",
   "execution_count": 4,
   "id": "47cf7fd3-f18e-4555-b9df-764b2b473679",
   "metadata": {},
   "outputs": [],
   "source": [
    "# Load existing CSV\n",
    "df1 = pd.read_csv(\"arxiv_metadata_10000.csv\")\n",
    "\n",
    "# Clean and split categories into lists\n",
    "df1['categories'] = df1['categories'].fillna('').apply(lambda x: x.split() if isinstance(x, str) else [])\n",
    "\n",
    "# Clean and split authors into lists\n",
    "df1['authors'] = df1['authors'].fillna('').apply(lambda x: [author.strip() for author in x.split(',')] if isinstance(x, str) else [])"
   ]
  },
  {
   "cell_type": "code",
   "execution_count": 6,
   "id": "d608852d-84b4-493c-ae45-df6f1baf7424",
   "metadata": {},
   "outputs": [
    {
     "name": "stdout",
     "output_type": "stream",
     "text": [
      "           categories                                            authors\n",
      "0            [hep-ph]  [C. Bal\\'azs, E. L. Berger, P. M. Nadolsky, C....\n",
      "1    [math.CO, cs.CG]                  [Ileana Streinu and Louis Theran]\n",
      "2    [physics.gen-ph]                                      [Hongjun Pan]\n",
      "3           [math.CO]                                     [David Callan]\n",
      "4  [math.CA, math.FA]         [Wael Abu-Shammala and Alberto Torchinsky]\n"
     ]
    }
   ],
   "source": [
    "print(df1[['categories', 'authors']].head())"
   ]
  },
  {
   "cell_type": "code",
   "execution_count": 7,
   "id": "beabf0db-c113-4619-b784-0fc57edea696",
   "metadata": {},
   "outputs": [
    {
     "data": {
      "text/html": [
       "<div>\n",
       "<style scoped>\n",
       "    .dataframe tbody tr th:only-of-type {\n",
       "        vertical-align: middle;\n",
       "    }\n",
       "\n",
       "    .dataframe tbody tr th {\n",
       "        vertical-align: top;\n",
       "    }\n",
       "\n",
       "    .dataframe thead th {\n",
       "        text-align: right;\n",
       "    }\n",
       "</style>\n",
       "<table border=\"1\" class=\"dataframe\">\n",
       "  <thead>\n",
       "    <tr style=\"text-align: right;\">\n",
       "      <th></th>\n",
       "      <th>id</th>\n",
       "      <th>title</th>\n",
       "      <th>abstract</th>\n",
       "      <th>categories</th>\n",
       "      <th>authors</th>\n",
       "    </tr>\n",
       "  </thead>\n",
       "  <tbody>\n",
       "    <tr>\n",
       "      <th>0</th>\n",
       "      <td>704.0001</td>\n",
       "      <td>Calculation of prompt diphoton production cros...</td>\n",
       "      <td>A fully differential calculation in perturba...</td>\n",
       "      <td>[hep-ph]</td>\n",
       "      <td>[C. Bal\\'azs, E. L. Berger, P. M. Nadolsky, C....</td>\n",
       "    </tr>\n",
       "    <tr>\n",
       "      <th>1</th>\n",
       "      <td>704.0002</td>\n",
       "      <td>Sparsity-certifying Graph Decompositions</td>\n",
       "      <td>We describe a new algorithm, the $(k,\\ell)$-...</td>\n",
       "      <td>[math.CO, cs.CG]</td>\n",
       "      <td>[Ileana Streinu and Louis Theran]</td>\n",
       "    </tr>\n",
       "    <tr>\n",
       "      <th>2</th>\n",
       "      <td>704.0003</td>\n",
       "      <td>The evolution of the Earth-Moon system based o...</td>\n",
       "      <td>The evolution of Earth-Moon system is descri...</td>\n",
       "      <td>[physics.gen-ph]</td>\n",
       "      <td>[Hongjun Pan]</td>\n",
       "    </tr>\n",
       "    <tr>\n",
       "      <th>3</th>\n",
       "      <td>704.0004</td>\n",
       "      <td>A determinant of Stirling cycle numbers counts...</td>\n",
       "      <td>We show that a determinant of Stirling cycle...</td>\n",
       "      <td>[math.CO]</td>\n",
       "      <td>[David Callan]</td>\n",
       "    </tr>\n",
       "    <tr>\n",
       "      <th>4</th>\n",
       "      <td>704.0005</td>\n",
       "      <td>From dyadic $\\Lambda_{\\alpha}$ to $\\Lambda_{\\a...</td>\n",
       "      <td>In this paper we show how to compute the $\\L...</td>\n",
       "      <td>[math.CA, math.FA]</td>\n",
       "      <td>[Wael Abu-Shammala and Alberto Torchinsky]</td>\n",
       "    </tr>\n",
       "  </tbody>\n",
       "</table>\n",
       "</div>"
      ],
      "text/plain": [
       "         id                                              title  \\\n",
       "0  704.0001  Calculation of prompt diphoton production cros...   \n",
       "1  704.0002           Sparsity-certifying Graph Decompositions   \n",
       "2  704.0003  The evolution of the Earth-Moon system based o...   \n",
       "3  704.0004  A determinant of Stirling cycle numbers counts...   \n",
       "4  704.0005  From dyadic $\\Lambda_{\\alpha}$ to $\\Lambda_{\\a...   \n",
       "\n",
       "                                            abstract          categories  \\\n",
       "0    A fully differential calculation in perturba...            [hep-ph]   \n",
       "1    We describe a new algorithm, the $(k,\\ell)$-...    [math.CO, cs.CG]   \n",
       "2    The evolution of Earth-Moon system is descri...    [physics.gen-ph]   \n",
       "3    We show that a determinant of Stirling cycle...           [math.CO]   \n",
       "4    In this paper we show how to compute the $\\L...  [math.CA, math.FA]   \n",
       "\n",
       "                                             authors  \n",
       "0  [C. Bal\\'azs, E. L. Berger, P. M. Nadolsky, C....  \n",
       "1                  [Ileana Streinu and Louis Theran]  \n",
       "2                                      [Hongjun Pan]  \n",
       "3                                     [David Callan]  \n",
       "4         [Wael Abu-Shammala and Alberto Torchinsky]  "
      ]
     },
     "execution_count": 7,
     "metadata": {},
     "output_type": "execute_result"
    }
   ],
   "source": [
    "df1.head()"
   ]
  },
  {
   "cell_type": "code",
   "execution_count": 8,
   "id": "0f2a40c4-7b1f-4248-94d0-a99ce013cb63",
   "metadata": {},
   "outputs": [
    {
     "name": "stdout",
     "output_type": "stream",
     "text": [
      "Total unique categories: 142\n",
      "['hep-ph', 'math.CO', 'cs.CG', 'physics.gen-ph', 'math.CA', 'math.FA', 'cond-mat.mes-hall', 'gr-qc', 'cond-mat.mtrl-sci', 'astro-ph']\n"
     ]
    }
   ],
   "source": [
    "# Extract all categories into one flat list\n",
    "all_categories = df1['categories'].explode().unique().tolist()\n",
    "\n",
    "print(\"Total unique categories:\", len(all_categories))\n",
    "print(all_categories[:10])  # Preview first 10 categories"
   ]
  },
  {
   "cell_type": "code",
   "execution_count": 9,
   "id": "b76ccfb4-a30b-47a0-bce0-de41d46ffb59",
   "metadata": {},
   "outputs": [
    {
     "name": "stdout",
     "output_type": "stream",
     "text": [
      "Total unique authors: 26514\n",
      "[\"C. Bal\\\\'azs\", 'E. L. Berger', 'P. M. Nadolsky', 'C.-P. Yuan', 'Ileana Streinu and Louis Theran', 'Hongjun Pan', 'David Callan', 'Wael Abu-Shammala and Alberto Torchinsky', 'Y. H. Pong and C. K. Law', 'Alejandro Corichi']\n"
     ]
    }
   ],
   "source": [
    "# Extract all authors into one flat list\n",
    "all_authors = df1['authors'].explode().unique().tolist()\n",
    "\n",
    "print(\"Total unique authors:\", len(all_authors))\n",
    "print(all_authors[:10])  # Preview first 10 authors\n"
   ]
  },
  {
   "cell_type": "code",
   "execution_count": 10,
   "id": "d5ef9903-623a-4a37-9662-038b80a87d22",
   "metadata": {},
   "outputs": [
    {
     "data": {
      "text/html": [
       "<div>\n",
       "<style scoped>\n",
       "    .dataframe tbody tr th:only-of-type {\n",
       "        vertical-align: middle;\n",
       "    }\n",
       "\n",
       "    .dataframe tbody tr th {\n",
       "        vertical-align: top;\n",
       "    }\n",
       "\n",
       "    .dataframe thead th {\n",
       "        text-align: right;\n",
       "    }\n",
       "</style>\n",
       "<table border=\"1\" class=\"dataframe\">\n",
       "  <thead>\n",
       "    <tr style=\"text-align: right;\">\n",
       "      <th></th>\n",
       "      <th>id</th>\n",
       "      <th>title</th>\n",
       "      <th>abstract</th>\n",
       "      <th>categories</th>\n",
       "      <th>authors</th>\n",
       "    </tr>\n",
       "  </thead>\n",
       "  <tbody>\n",
       "    <tr>\n",
       "      <th>0</th>\n",
       "      <td>704.0001</td>\n",
       "      <td>Calculation of prompt diphoton production cros...</td>\n",
       "      <td>A fully differential calculation in perturba...</td>\n",
       "      <td>[hep-ph]</td>\n",
       "      <td>[C. Bal\\'azs, E. L. Berger, P. M. Nadolsky, C....</td>\n",
       "    </tr>\n",
       "    <tr>\n",
       "      <th>1</th>\n",
       "      <td>704.0002</td>\n",
       "      <td>Sparsity-certifying Graph Decompositions</td>\n",
       "      <td>We describe a new algorithm, the $(k,\\ell)$-...</td>\n",
       "      <td>[math.CO, cs.CG]</td>\n",
       "      <td>[Ileana Streinu and Louis Theran]</td>\n",
       "    </tr>\n",
       "    <tr>\n",
       "      <th>2</th>\n",
       "      <td>704.0003</td>\n",
       "      <td>The evolution of the Earth-Moon system based o...</td>\n",
       "      <td>The evolution of Earth-Moon system is descri...</td>\n",
       "      <td>[physics.gen-ph]</td>\n",
       "      <td>[Hongjun Pan]</td>\n",
       "    </tr>\n",
       "    <tr>\n",
       "      <th>3</th>\n",
       "      <td>704.0004</td>\n",
       "      <td>A determinant of Stirling cycle numbers counts...</td>\n",
       "      <td>We show that a determinant of Stirling cycle...</td>\n",
       "      <td>[math.CO]</td>\n",
       "      <td>[David Callan]</td>\n",
       "    </tr>\n",
       "    <tr>\n",
       "      <th>4</th>\n",
       "      <td>704.0005</td>\n",
       "      <td>From dyadic $\\Lambda_{\\alpha}$ to $\\Lambda_{\\a...</td>\n",
       "      <td>In this paper we show how to compute the $\\L...</td>\n",
       "      <td>[math.CA, math.FA]</td>\n",
       "      <td>[Wael Abu-Shammala and Alberto Torchinsky]</td>\n",
       "    </tr>\n",
       "  </tbody>\n",
       "</table>\n",
       "</div>"
      ],
      "text/plain": [
       "         id                                              title  \\\n",
       "0  704.0001  Calculation of prompt diphoton production cros...   \n",
       "1  704.0002           Sparsity-certifying Graph Decompositions   \n",
       "2  704.0003  The evolution of the Earth-Moon system based o...   \n",
       "3  704.0004  A determinant of Stirling cycle numbers counts...   \n",
       "4  704.0005  From dyadic $\\Lambda_{\\alpha}$ to $\\Lambda_{\\a...   \n",
       "\n",
       "                                            abstract          categories  \\\n",
       "0    A fully differential calculation in perturba...            [hep-ph]   \n",
       "1    We describe a new algorithm, the $(k,\\ell)$-...    [math.CO, cs.CG]   \n",
       "2    The evolution of Earth-Moon system is descri...    [physics.gen-ph]   \n",
       "3    We show that a determinant of Stirling cycle...           [math.CO]   \n",
       "4    In this paper we show how to compute the $\\L...  [math.CA, math.FA]   \n",
       "\n",
       "                                             authors  \n",
       "0  [C. Bal\\'azs, E. L. Berger, P. M. Nadolsky, C....  \n",
       "1                  [Ileana Streinu and Louis Theran]  \n",
       "2                                      [Hongjun Pan]  \n",
       "3                                     [David Callan]  \n",
       "4         [Wael Abu-Shammala and Alberto Torchinsky]  "
      ]
     },
     "execution_count": 10,
     "metadata": {},
     "output_type": "execute_result"
    }
   ],
   "source": [
    "df1.head()"
   ]
  },
  {
   "cell_type": "code",
   "execution_count": 11,
   "id": "45fd6b29-2097-433a-aaf4-f0b05b31c6b4",
   "metadata": {},
   "outputs": [
    {
     "name": "stdout",
     "output_type": "stream",
     "text": [
      "<class 'pandas.core.frame.DataFrame'>\n",
      "RangeIndex: 10000 entries, 0 to 9999\n",
      "Data columns (total 5 columns):\n",
      " #   Column      Non-Null Count  Dtype  \n",
      "---  ------      --------------  -----  \n",
      " 0   id          10000 non-null  float64\n",
      " 1   title       10000 non-null  object \n",
      " 2   abstract    10000 non-null  object \n",
      " 3   categories  10000 non-null  object \n",
      " 4   authors     10000 non-null  object \n",
      "dtypes: float64(1), object(4)\n",
      "memory usage: 390.8+ KB\n"
     ]
    }
   ],
   "source": [
    "df1.info()"
   ]
  },
  {
   "cell_type": "code",
   "execution_count": 12,
   "id": "681471b6-0694-45ea-89e7-d021dafa044e",
   "metadata": {},
   "outputs": [
    {
     "name": "stdout",
     "output_type": "stream",
     "text": [
      "<class 'list'>\n",
      "<class 'list'>\n"
     ]
    }
   ],
   "source": [
    "print(type(df1['categories'].iloc[0]))\n",
    "print(type(df1['authors'].iloc[0]))\n"
   ]
  },
  {
   "cell_type": "code",
   "execution_count": 13,
   "id": "ef6891b0-b3c9-48da-b37a-f91e7f19748e",
   "metadata": {},
   "outputs": [],
   "source": [
    "df1['categories'] = df1['categories'].apply(lambda x: '; '.join(x))\n",
    "df1['authors'] = df1['authors'].apply(lambda x: '; '.join(x))\n"
   ]
  },
  {
   "cell_type": "code",
   "execution_count": 14,
   "id": "86f32fe0-14bf-46a2-a328-93978233234e",
   "metadata": {},
   "outputs": [
    {
     "name": "stdout",
     "output_type": "stream",
     "text": [
      "<class 'str'>\n",
      "<class 'str'>\n"
     ]
    }
   ],
   "source": [
    "print(type(df1['categories'].iloc[0]))\n",
    "print(type(df1['authors'].iloc[0]))"
   ]
  },
  {
   "cell_type": "code",
   "execution_count": 15,
   "id": "59109876-f3fc-4f39-96f1-414670aa9bb5",
   "metadata": {},
   "outputs": [
    {
     "data": {
      "text/html": [
       "<div>\n",
       "<style scoped>\n",
       "    .dataframe tbody tr th:only-of-type {\n",
       "        vertical-align: middle;\n",
       "    }\n",
       "\n",
       "    .dataframe tbody tr th {\n",
       "        vertical-align: top;\n",
       "    }\n",
       "\n",
       "    .dataframe thead th {\n",
       "        text-align: right;\n",
       "    }\n",
       "</style>\n",
       "<table border=\"1\" class=\"dataframe\">\n",
       "  <thead>\n",
       "    <tr style=\"text-align: right;\">\n",
       "      <th></th>\n",
       "      <th>id</th>\n",
       "      <th>title</th>\n",
       "      <th>abstract</th>\n",
       "      <th>categories</th>\n",
       "      <th>authors</th>\n",
       "    </tr>\n",
       "  </thead>\n",
       "  <tbody>\n",
       "    <tr>\n",
       "      <th>0</th>\n",
       "      <td>704.0001</td>\n",
       "      <td>Calculation of prompt diphoton production cros...</td>\n",
       "      <td>A fully differential calculation in perturba...</td>\n",
       "      <td>hep-ph</td>\n",
       "      <td>C. Bal\\'azs; E. L. Berger; P. M. Nadolsky; C.-...</td>\n",
       "    </tr>\n",
       "    <tr>\n",
       "      <th>1</th>\n",
       "      <td>704.0002</td>\n",
       "      <td>Sparsity-certifying Graph Decompositions</td>\n",
       "      <td>We describe a new algorithm, the $(k,\\ell)$-...</td>\n",
       "      <td>math.CO; cs.CG</td>\n",
       "      <td>Ileana Streinu and Louis Theran</td>\n",
       "    </tr>\n",
       "    <tr>\n",
       "      <th>2</th>\n",
       "      <td>704.0003</td>\n",
       "      <td>The evolution of the Earth-Moon system based o...</td>\n",
       "      <td>The evolution of Earth-Moon system is descri...</td>\n",
       "      <td>physics.gen-ph</td>\n",
       "      <td>Hongjun Pan</td>\n",
       "    </tr>\n",
       "    <tr>\n",
       "      <th>3</th>\n",
       "      <td>704.0004</td>\n",
       "      <td>A determinant of Stirling cycle numbers counts...</td>\n",
       "      <td>We show that a determinant of Stirling cycle...</td>\n",
       "      <td>math.CO</td>\n",
       "      <td>David Callan</td>\n",
       "    </tr>\n",
       "    <tr>\n",
       "      <th>4</th>\n",
       "      <td>704.0005</td>\n",
       "      <td>From dyadic $\\Lambda_{\\alpha}$ to $\\Lambda_{\\a...</td>\n",
       "      <td>In this paper we show how to compute the $\\L...</td>\n",
       "      <td>math.CA; math.FA</td>\n",
       "      <td>Wael Abu-Shammala and Alberto Torchinsky</td>\n",
       "    </tr>\n",
       "  </tbody>\n",
       "</table>\n",
       "</div>"
      ],
      "text/plain": [
       "         id                                              title  \\\n",
       "0  704.0001  Calculation of prompt diphoton production cros...   \n",
       "1  704.0002           Sparsity-certifying Graph Decompositions   \n",
       "2  704.0003  The evolution of the Earth-Moon system based o...   \n",
       "3  704.0004  A determinant of Stirling cycle numbers counts...   \n",
       "4  704.0005  From dyadic $\\Lambda_{\\alpha}$ to $\\Lambda_{\\a...   \n",
       "\n",
       "                                            abstract        categories  \\\n",
       "0    A fully differential calculation in perturba...            hep-ph   \n",
       "1    We describe a new algorithm, the $(k,\\ell)$-...    math.CO; cs.CG   \n",
       "2    The evolution of Earth-Moon system is descri...    physics.gen-ph   \n",
       "3    We show that a determinant of Stirling cycle...           math.CO   \n",
       "4    In this paper we show how to compute the $\\L...  math.CA; math.FA   \n",
       "\n",
       "                                             authors  \n",
       "0  C. Bal\\'azs; E. L. Berger; P. M. Nadolsky; C.-...  \n",
       "1                    Ileana Streinu and Louis Theran  \n",
       "2                                        Hongjun Pan  \n",
       "3                                       David Callan  \n",
       "4           Wael Abu-Shammala and Alberto Torchinsky  "
      ]
     },
     "execution_count": 15,
     "metadata": {},
     "output_type": "execute_result"
    }
   ],
   "source": [
    "df1.head()"
   ]
  },
  {
   "cell_type": "code",
   "execution_count": 16,
   "id": "479b615a-250e-41f3-ada1-4627a9f05ed8",
   "metadata": {},
   "outputs": [
    {
     "name": "stdout",
     "output_type": "stream",
     "text": [
      "Saved arxiv_metadata_final.csv with clean lists as strings.\n"
     ]
    }
   ],
   "source": [
    "df1.to_csv(\"arxiv_metadata_final.csv\", index=False)\n",
    "print(\"Saved arxiv_metadata_final.csv with clean lists as strings.\")\n"
   ]
  },
  {
   "cell_type": "code",
   "execution_count": 21,
   "id": "0452e70a-6345-454b-a2af-b925a1b6d900",
   "metadata": {},
   "outputs": [
    {
     "name": "stdout",
     "output_type": "stream",
     "text": [
      "<class 'str'>\n",
      "<class 'str'>\n"
     ]
    }
   ],
   "source": [
    "print(type(df1['title'].iloc[0]))\n",
    "print(type(df1['abstract'].iloc[0]))"
   ]
  },
  {
   "cell_type": "code",
   "execution_count": 41,
   "id": "83375a79-979b-49fa-b5c6-2935f379ae5e",
   "metadata": {},
   "outputs": [
    {
     "name": "stdout",
     "output_type": "stream",
     "text": [
      "Collecting sentence-transformers\n",
      "  Downloading sentence_transformers-5.0.0-py3-none-any.whl.metadata (16 kB)\n",
      "Collecting transformers<5.0.0,>=4.41.0 (from sentence-transformers)\n",
      "  Downloading transformers-4.53.2-py3-none-any.whl.metadata (40 kB)\n",
      "Requirement already satisfied: tqdm in c:\\users\\91873\\appdata\\local\\programs\\python\\python310\\lib\\site-packages (from sentence-transformers) (4.63.0)\n",
      "Collecting torch>=1.11.0 (from sentence-transformers)\n",
      "  Downloading torch-2.7.1-cp310-cp310-win_amd64.whl.metadata (28 kB)\n",
      "Requirement already satisfied: scikit-learn in c:\\users\\91873\\appdata\\local\\programs\\python\\python310\\lib\\site-packages (from sentence-transformers) (1.5.2)\n",
      "Requirement already satisfied: scipy in c:\\users\\91873\\appdata\\local\\programs\\python\\python310\\lib\\site-packages (from sentence-transformers) (1.13.1)\n",
      "Collecting huggingface-hub>=0.20.0 (from sentence-transformers)\n",
      "  Downloading huggingface_hub-0.33.4-py3-none-any.whl.metadata (14 kB)\n",
      "Requirement already satisfied: Pillow in c:\\users\\91873\\appdata\\local\\programs\\python\\python310\\lib\\site-packages (from sentence-transformers) (9.0.1)\n",
      "Requirement already satisfied: typing_extensions>=4.5.0 in c:\\users\\91873\\appdata\\local\\programs\\python\\python310\\lib\\site-packages (from sentence-transformers) (4.12.2)\n",
      "Collecting filelock (from huggingface-hub>=0.20.0->sentence-transformers)\n",
      "  Downloading filelock-3.18.0-py3-none-any.whl.metadata (2.9 kB)\n",
      "Collecting fsspec>=2023.5.0 (from huggingface-hub>=0.20.0->sentence-transformers)\n",
      "  Downloading fsspec-2025.7.0-py3-none-any.whl.metadata (12 kB)\n",
      "Requirement already satisfied: packaging>=20.9 in c:\\users\\91873\\appdata\\local\\programs\\python\\python310\\lib\\site-packages (from huggingface-hub>=0.20.0->sentence-transformers) (24.2)\n",
      "Requirement already satisfied: pyyaml>=5.1 in c:\\users\\91873\\appdata\\local\\programs\\python\\python310\\lib\\site-packages (from huggingface-hub>=0.20.0->sentence-transformers) (6.0.2)\n",
      "Requirement already satisfied: requests in c:\\users\\91873\\appdata\\local\\programs\\python\\python310\\lib\\site-packages (from huggingface-hub>=0.20.0->sentence-transformers) (2.32.3)\n",
      "Collecting sympy>=1.13.3 (from torch>=1.11.0->sentence-transformers)\n",
      "  Downloading sympy-1.14.0-py3-none-any.whl.metadata (12 kB)\n",
      "Collecting networkx (from torch>=1.11.0->sentence-transformers)\n",
      "  Downloading networkx-3.4.2-py3-none-any.whl.metadata (6.3 kB)\n",
      "Requirement already satisfied: jinja2 in c:\\users\\91873\\appdata\\local\\programs\\python\\python310\\lib\\site-packages (from torch>=1.11.0->sentence-transformers) (3.1.4)\n",
      "Requirement already satisfied: colorama in c:\\users\\91873\\appdata\\local\\programs\\python\\python310\\lib\\site-packages (from tqdm->sentence-transformers) (0.4.4)\n",
      "Requirement already satisfied: numpy>=1.17 in c:\\users\\91873\\appdata\\local\\programs\\python\\python310\\lib\\site-packages (from transformers<5.0.0,>=4.41.0->sentence-transformers) (1.26.0)\n",
      "Requirement already satisfied: regex!=2019.12.17 in c:\\users\\91873\\appdata\\local\\programs\\python\\python310\\lib\\site-packages (from transformers<5.0.0,>=4.41.0->sentence-transformers) (2022.3.2)\n",
      "Collecting tokenizers<0.22,>=0.21 (from transformers<5.0.0,>=4.41.0->sentence-transformers)\n",
      "  Downloading tokenizers-0.21.2-cp39-abi3-win_amd64.whl.metadata (6.9 kB)\n",
      "Collecting safetensors>=0.4.3 (from transformers<5.0.0,>=4.41.0->sentence-transformers)\n",
      "  Downloading safetensors-0.5.3-cp38-abi3-win_amd64.whl.metadata (3.9 kB)\n",
      "Requirement already satisfied: joblib>=1.2.0 in c:\\users\\91873\\appdata\\local\\programs\\python\\python310\\lib\\site-packages (from scikit-learn->sentence-transformers) (1.4.2)\n",
      "Requirement already satisfied: threadpoolctl>=3.1.0 in c:\\users\\91873\\appdata\\local\\programs\\python\\python310\\lib\\site-packages (from scikit-learn->sentence-transformers) (3.5.0)\n",
      "Collecting mpmath<1.4,>=1.1.0 (from sympy>=1.13.3->torch>=1.11.0->sentence-transformers)\n",
      "  Downloading mpmath-1.3.0-py3-none-any.whl.metadata (8.6 kB)\n",
      "Requirement already satisfied: MarkupSafe>=2.0 in c:\\users\\91873\\appdata\\local\\programs\\python\\python310\\lib\\site-packages (from jinja2->torch>=1.11.0->sentence-transformers) (3.0.2)\n",
      "Requirement already satisfied: charset-normalizer<4,>=2 in c:\\users\\91873\\appdata\\local\\programs\\python\\python310\\lib\\site-packages (from requests->huggingface-hub>=0.20.0->sentence-transformers) (3.4.1)\n",
      "Requirement already satisfied: idna<4,>=2.5 in c:\\users\\91873\\appdata\\local\\programs\\python\\python310\\lib\\site-packages (from requests->huggingface-hub>=0.20.0->sentence-transformers) (3.10)\n",
      "Requirement already satisfied: urllib3<3,>=1.21.1 in c:\\users\\91873\\appdata\\local\\programs\\python\\python310\\lib\\site-packages (from requests->huggingface-hub>=0.20.0->sentence-transformers) (2.3.0)\n",
      "Requirement already satisfied: certifi>=2017.4.17 in c:\\users\\91873\\appdata\\local\\programs\\python\\python310\\lib\\site-packages (from requests->huggingface-hub>=0.20.0->sentence-transformers) (2024.12.14)\n",
      "Downloading sentence_transformers-5.0.0-py3-none-any.whl (470 kB)\n",
      "Downloading huggingface_hub-0.33.4-py3-none-any.whl (515 kB)\n",
      "Downloading torch-2.7.1-cp310-cp310-win_amd64.whl (216.1 MB)\n",
      "   ---------------------------------------- 0.0/216.1 MB ? eta -:--:--\n",
      "    --------------------------------------- 4.2/216.1 MB 20.9 MB/s eta 0:00:11\n",
      "   - -------------------------------------- 8.7/216.1 MB 21.5 MB/s eta 0:00:10\n",
      "   -- ------------------------------------- 13.4/216.1 MB 22.1 MB/s eta 0:00:10\n",
      "   --- ------------------------------------ 17.8/216.1 MB 22.0 MB/s eta 0:00:09\n",
      "   ---- ----------------------------------- 22.3/216.1 MB 21.7 MB/s eta 0:00:09\n",
      "   ---- ----------------------------------- 26.7/216.1 MB 21.7 MB/s eta 0:00:09\n",
      "   ----- ---------------------------------- 31.2/216.1 MB 21.8 MB/s eta 0:00:09\n",
      "   ------ --------------------------------- 35.4/216.1 MB 21.6 MB/s eta 0:00:09\n",
      "   ------- -------------------------------- 40.4/216.1 MB 21.9 MB/s eta 0:00:09\n",
      "   -------- ------------------------------- 44.8/216.1 MB 21.9 MB/s eta 0:00:08\n",
      "   --------- ------------------------------ 49.5/216.1 MB 21.9 MB/s eta 0:00:08\n",
      "   ---------- ----------------------------- 54.3/216.1 MB 22.1 MB/s eta 0:00:08\n",
      "   ---------- ----------------------------- 58.7/216.1 MB 22.1 MB/s eta 0:00:08\n",
      "   ----------- ---------------------------- 63.7/216.1 MB 22.1 MB/s eta 0:00:07\n",
      "   ------------ --------------------------- 68.2/216.1 MB 22.1 MB/s eta 0:00:07\n",
      "   ------------- -------------------------- 72.9/216.1 MB 22.1 MB/s eta 0:00:07\n",
      "   -------------- ------------------------- 77.6/216.1 MB 22.2 MB/s eta 0:00:07\n",
      "   --------------- ------------------------ 82.3/216.1 MB 22.2 MB/s eta 0:00:07\n",
      "   ---------------- ----------------------- 87.0/216.1 MB 22.1 MB/s eta 0:00:06\n",
      "   ---------------- ----------------------- 91.8/216.1 MB 22.2 MB/s eta 0:00:06\n",
      "   ----------------- ---------------------- 96.2/216.1 MB 22.1 MB/s eta 0:00:06\n",
      "   ------------------ -------------------- 100.9/216.1 MB 22.2 MB/s eta 0:00:06\n",
      "   ------------------- ------------------- 106.2/216.1 MB 22.2 MB/s eta 0:00:05\n",
      "   -------------------- ------------------ 111.7/216.1 MB 22.5 MB/s eta 0:00:05\n",
      "   --------------------- ----------------- 117.4/216.1 MB 22.6 MB/s eta 0:00:05\n",
      "   ---------------------- ---------------- 123.2/216.1 MB 22.7 MB/s eta 0:00:05\n",
      "   ----------------------- --------------- 127.9/216.1 MB 22.7 MB/s eta 0:00:04\n",
      "   ----------------------- --------------- 132.4/216.1 MB 22.7 MB/s eta 0:00:04\n",
      "   ------------------------ -------------- 136.8/216.1 MB 22.6 MB/s eta 0:00:04\n",
      "   ------------------------- ------------- 141.3/216.1 MB 22.6 MB/s eta 0:00:04\n",
      "   -------------------------- ------------ 145.8/216.1 MB 22.6 MB/s eta 0:00:04\n",
      "   --------------------------- ----------- 150.2/216.1 MB 22.6 MB/s eta 0:00:03\n",
      "   ---------------------------- ---------- 155.2/216.1 MB 22.6 MB/s eta 0:00:03\n",
      "   ---------------------------- ---------- 160.4/216.1 MB 22.7 MB/s eta 0:00:03\n",
      "   ------------------------------ -------- 166.7/216.1 MB 22.9 MB/s eta 0:00:03\n",
      "   ------------------------------- ------- 172.5/216.1 MB 23.0 MB/s eta 0:00:02\n",
      "   -------------------------------- ------ 178.3/216.1 MB 23.2 MB/s eta 0:00:02\n",
      "   --------------------------------- ----- 184.3/216.1 MB 23.3 MB/s eta 0:00:02\n",
      "   ---------------------------------- ---- 190.1/216.1 MB 23.4 MB/s eta 0:00:02\n",
      "   ----------------------------------- --- 196.1/216.1 MB 23.6 MB/s eta 0:00:01\n",
      "   ------------------------------------ -- 201.9/216.1 MB 23.7 MB/s eta 0:00:01\n",
      "   ------------------------------------- - 207.6/216.1 MB 23.8 MB/s eta 0:00:01\n",
      "   --------------------------------------  213.4/216.1 MB 23.9 MB/s eta 0:00:01\n",
      "   --------------------------------------  216.0/216.1 MB 23.9 MB/s eta 0:00:01\n",
      "   --------------------------------------  216.0/216.1 MB 23.9 MB/s eta 0:00:01\n",
      "   --------------------------------------  216.0/216.1 MB 23.9 MB/s eta 0:00:01\n",
      "   --------------------------------------- 216.1/216.1 MB 22.6 MB/s eta 0:00:00\n",
      "Downloading transformers-4.53.2-py3-none-any.whl (10.8 MB)\n",
      "   ---------------------------------------- 0.0/10.8 MB ? eta -:--:--\n",
      "   --------------------- ------------------ 5.8/10.8 MB 27.1 MB/s eta 0:00:01\n",
      "   ---------------------------------------  10.7/10.8 MB 26.9 MB/s eta 0:00:01\n",
      "   ---------------------------------------- 10.8/10.8 MB 24.2 MB/s eta 0:00:00\n",
      "Downloading fsspec-2025.7.0-py3-none-any.whl (199 kB)\n",
      "Downloading safetensors-0.5.3-cp38-abi3-win_amd64.whl (308 kB)\n",
      "Downloading sympy-1.14.0-py3-none-any.whl (6.3 MB)\n",
      "   ---------------------------------------- 0.0/6.3 MB ? eta -:--:--\n",
      "   ------------------------------------ --- 5.8/6.3 MB 29.4 MB/s eta 0:00:01\n",
      "   ---------------------------------------- 6.3/6.3 MB 24.1 MB/s eta 0:00:00\n",
      "Downloading tokenizers-0.21.2-cp39-abi3-win_amd64.whl (2.5 MB)\n",
      "   ---------------------------------------- 0.0/2.5 MB ? eta -:--:--\n",
      "   ---------------------------------------- 2.5/2.5 MB 20.4 MB/s eta 0:00:00\n",
      "Downloading filelock-3.18.0-py3-none-any.whl (16 kB)\n",
      "Downloading networkx-3.4.2-py3-none-any.whl (1.7 MB)\n",
      "   ---------------------------------------- 0.0/1.7 MB ? eta -:--:--\n",
      "   ---------------------------------------- 1.7/1.7 MB 18.7 MB/s eta 0:00:00\n",
      "Downloading mpmath-1.3.0-py3-none-any.whl (536 kB)\n",
      "   ---------------------------------------- 0.0/536.2 kB ? eta -:--:--\n",
      "   --------------------------------------- 536.2/536.2 kB 17.1 MB/s eta 0:00:00\n",
      "Installing collected packages: mpmath, sympy, safetensors, networkx, fsspec, filelock, torch, huggingface-hub, tokenizers, transformers, sentence-transformers\n",
      "Successfully installed filelock-3.18.0 fsspec-2025.7.0 huggingface-hub-0.33.4 mpmath-1.3.0 networkx-3.4.2 safetensors-0.5.3 sentence-transformers-5.0.0 sympy-1.14.0 tokenizers-0.21.2 torch-2.7.1 transformers-4.53.2\n",
      "Note: you may need to restart the kernel to use updated packages.\n"
     ]
    },
    {
     "name": "stderr",
     "output_type": "stream",
     "text": [
      "\n",
      "[notice] A new release of pip is available: 24.3.1 -> 25.1.1\n",
      "[notice] To update, run: python.exe -m pip install --upgrade pip\n"
     ]
    }
   ],
   "source": [
    "pip install sentence-transformers"
   ]
  },
  {
   "cell_type": "code",
   "execution_count": 48,
   "id": "61c7fd94-ba1e-4d61-80dc-aabadf5a8aa8",
   "metadata": {},
   "outputs": [
    {
     "name": "stdout",
     "output_type": "stream",
     "text": [
      "Requirement already satisfied: tf-keras in c:\\users\\91873\\appdata\\roaming\\python\\python310\\site-packages (2.19.0)\n",
      "Requirement already satisfied: tensorflow<2.20,>=2.19 in c:\\users\\91873\\appdata\\roaming\\python\\python310\\site-packages (from tf-keras) (2.19.0)\n",
      "Requirement already satisfied: absl-py>=1.0.0 in c:\\users\\91873\\appdata\\local\\programs\\python\\python310\\lib\\site-packages (from tensorflow<2.20,>=2.19->tf-keras) (2.1.0)\n",
      "Requirement already satisfied: astunparse>=1.6.0 in c:\\users\\91873\\appdata\\local\\programs\\python\\python310\\lib\\site-packages (from tensorflow<2.20,>=2.19->tf-keras) (1.6.3)\n",
      "Requirement already satisfied: flatbuffers>=24.3.25 in c:\\users\\91873\\appdata\\local\\programs\\python\\python310\\lib\\site-packages (from tensorflow<2.20,>=2.19->tf-keras) (25.1.21)\n",
      "Requirement already satisfied: gast!=0.5.0,!=0.5.1,!=0.5.2,>=0.2.1 in c:\\users\\91873\\appdata\\local\\programs\\python\\python310\\lib\\site-packages (from tensorflow<2.20,>=2.19->tf-keras) (0.6.0)\n",
      "Requirement already satisfied: google-pasta>=0.1.1 in c:\\users\\91873\\appdata\\local\\programs\\python\\python310\\lib\\site-packages (from tensorflow<2.20,>=2.19->tf-keras) (0.2.0)\n",
      "Requirement already satisfied: libclang>=13.0.0 in c:\\users\\91873\\appdata\\local\\programs\\python\\python310\\lib\\site-packages (from tensorflow<2.20,>=2.19->tf-keras) (18.1.1)\n",
      "Requirement already satisfied: opt-einsum>=2.3.2 in c:\\users\\91873\\appdata\\local\\programs\\python\\python310\\lib\\site-packages (from tensorflow<2.20,>=2.19->tf-keras) (3.4.0)\n",
      "Requirement already satisfied: packaging in c:\\users\\91873\\appdata\\local\\programs\\python\\python310\\lib\\site-packages (from tensorflow<2.20,>=2.19->tf-keras) (24.2)\n",
      "Requirement already satisfied: protobuf!=4.21.0,!=4.21.1,!=4.21.2,!=4.21.3,!=4.21.4,!=4.21.5,<6.0.0dev,>=3.20.3 in c:\\users\\91873\\appdata\\local\\programs\\python\\python310\\lib\\site-packages (from tensorflow<2.20,>=2.19->tf-keras) (5.29.3)\n",
      "Requirement already satisfied: requests<3,>=2.21.0 in c:\\users\\91873\\appdata\\local\\programs\\python\\python310\\lib\\site-packages (from tensorflow<2.20,>=2.19->tf-keras) (2.32.3)\n",
      "Requirement already satisfied: setuptools in c:\\users\\91873\\appdata\\local\\programs\\python\\python310\\lib\\site-packages (from tensorflow<2.20,>=2.19->tf-keras) (75.8.0)\n",
      "Requirement already satisfied: six>=1.12.0 in c:\\users\\91873\\appdata\\local\\programs\\python\\python310\\lib\\site-packages (from tensorflow<2.20,>=2.19->tf-keras) (1.17.0)\n",
      "Requirement already satisfied: termcolor>=1.1.0 in c:\\users\\91873\\appdata\\local\\programs\\python\\python310\\lib\\site-packages (from tensorflow<2.20,>=2.19->tf-keras) (2.5.0)\n",
      "Requirement already satisfied: typing-extensions>=3.6.6 in c:\\users\\91873\\appdata\\local\\programs\\python\\python310\\lib\\site-packages (from tensorflow<2.20,>=2.19->tf-keras) (4.12.2)\n",
      "Requirement already satisfied: wrapt>=1.11.0 in c:\\users\\91873\\appdata\\local\\programs\\python\\python310\\lib\\site-packages (from tensorflow<2.20,>=2.19->tf-keras) (1.17.2)\n",
      "Requirement already satisfied: grpcio<2.0,>=1.24.3 in c:\\users\\91873\\appdata\\local\\programs\\python\\python310\\lib\\site-packages (from tensorflow<2.20,>=2.19->tf-keras) (1.69.0)\n",
      "Requirement already satisfied: tensorboard~=2.19.0 in c:\\users\\91873\\appdata\\local\\programs\\python\\python310\\lib\\site-packages (from tensorflow<2.20,>=2.19->tf-keras) (2.19.0)\n",
      "Requirement already satisfied: keras>=3.5.0 in c:\\users\\91873\\appdata\\local\\programs\\python\\python310\\lib\\site-packages (from tensorflow<2.20,>=2.19->tf-keras) (3.8.0)\n",
      "Requirement already satisfied: numpy<2.2.0,>=1.26.0 in c:\\users\\91873\\appdata\\local\\programs\\python\\python310\\lib\\site-packages (from tensorflow<2.20,>=2.19->tf-keras) (1.26.0)\n",
      "Requirement already satisfied: h5py>=3.11.0 in c:\\users\\91873\\appdata\\local\\programs\\python\\python310\\lib\\site-packages (from tensorflow<2.20,>=2.19->tf-keras) (3.12.1)\n",
      "Requirement already satisfied: ml-dtypes<1.0.0,>=0.5.1 in c:\\users\\91873\\appdata\\local\\programs\\python\\python310\\lib\\site-packages (from tensorflow<2.20,>=2.19->tf-keras) (0.5.1)\n",
      "Requirement already satisfied: tensorflow-io-gcs-filesystem>=0.23.1 in c:\\users\\91873\\appdata\\local\\programs\\python\\python310\\lib\\site-packages (from tensorflow<2.20,>=2.19->tf-keras) (0.31.0)\n",
      "Requirement already satisfied: charset-normalizer<4,>=2 in c:\\users\\91873\\appdata\\local\\programs\\python\\python310\\lib\\site-packages (from requests<3,>=2.21.0->tensorflow<2.20,>=2.19->tf-keras) (3.4.1)\n",
      "Requirement already satisfied: idna<4,>=2.5 in c:\\users\\91873\\appdata\\local\\programs\\python\\python310\\lib\\site-packages (from requests<3,>=2.21.0->tensorflow<2.20,>=2.19->tf-keras) (3.10)\n",
      "Requirement already satisfied: urllib3<3,>=1.21.1 in c:\\users\\91873\\appdata\\local\\programs\\python\\python310\\lib\\site-packages (from requests<3,>=2.21.0->tensorflow<2.20,>=2.19->tf-keras) (2.3.0)\n",
      "Requirement already satisfied: certifi>=2017.4.17 in c:\\users\\91873\\appdata\\local\\programs\\python\\python310\\lib\\site-packages (from requests<3,>=2.21.0->tensorflow<2.20,>=2.19->tf-keras) (2024.12.14)\n",
      "Requirement already satisfied: markdown>=2.6.8 in c:\\users\\91873\\appdata\\local\\programs\\python\\python310\\lib\\site-packages (from tensorboard~=2.19.0->tensorflow<2.20,>=2.19->tf-keras) (3.7)\n",
      "Requirement already satisfied: tensorboard-data-server<0.8.0,>=0.7.0 in c:\\users\\91873\\appdata\\local\\programs\\python\\python310\\lib\\site-packages (from tensorboard~=2.19.0->tensorflow<2.20,>=2.19->tf-keras) (0.7.2)\n",
      "Requirement already satisfied: werkzeug>=1.0.1 in c:\\users\\91873\\appdata\\local\\programs\\python\\python310\\lib\\site-packages (from tensorboard~=2.19.0->tensorflow<2.20,>=2.19->tf-keras) (3.1.3)\n",
      "Requirement already satisfied: wheel<1.0,>=0.23.0 in c:\\users\\91873\\appdata\\local\\programs\\python\\python310\\lib\\site-packages (from astunparse>=1.6.0->tensorflow<2.20,>=2.19->tf-keras) (0.45.1)\n",
      "Requirement already satisfied: rich in c:\\users\\91873\\appdata\\local\\programs\\python\\python310\\lib\\site-packages (from keras>=3.5.0->tensorflow<2.20,>=2.19->tf-keras) (13.9.4)\n",
      "Requirement already satisfied: namex in c:\\users\\91873\\appdata\\local\\programs\\python\\python310\\lib\\site-packages (from keras>=3.5.0->tensorflow<2.20,>=2.19->tf-keras) (0.0.8)\n",
      "Requirement already satisfied: optree in c:\\users\\91873\\appdata\\local\\programs\\python\\python310\\lib\\site-packages (from keras>=3.5.0->tensorflow<2.20,>=2.19->tf-keras) (0.14.0)\n",
      "Requirement already satisfied: MarkupSafe>=2.1.1 in c:\\users\\91873\\appdata\\local\\programs\\python\\python310\\lib\\site-packages (from werkzeug>=1.0.1->tensorboard~=2.19.0->tensorflow<2.20,>=2.19->tf-keras) (3.0.2)\n",
      "Requirement already satisfied: markdown-it-py>=2.2.0 in c:\\users\\91873\\appdata\\local\\programs\\python\\python310\\lib\\site-packages (from rich->keras>=3.5.0->tensorflow<2.20,>=2.19->tf-keras) (3.0.0)\n",
      "Requirement already satisfied: pygments<3.0.0,>=2.13.0 in c:\\users\\91873\\appdata\\local\\programs\\python\\python310\\lib\\site-packages (from rich->keras>=3.5.0->tensorflow<2.20,>=2.19->tf-keras) (2.19.1)\n",
      "Requirement already satisfied: mdurl~=0.1 in c:\\users\\91873\\appdata\\local\\programs\\python\\python310\\lib\\site-packages (from markdown-it-py>=2.2.0->rich->keras>=3.5.0->tensorflow<2.20,>=2.19->tf-keras) (0.1.2)\n",
      "Note: you may need to restart the kernel to use updated packages.\n"
     ]
    }
   ],
   "source": [
    "pip install tf-keras"
   ]
  },
  {
   "cell_type": "code",
   "execution_count": 23,
   "id": "1de3afcd-a453-4d1c-bfbe-23ced5f8d3e2",
   "metadata": {},
   "outputs": [
    {
     "data": {
      "text/plain": [
       "0    Calculation of prompt diphoton production cros...\n",
       "1    Sparsity-certifying Graph Decompositions   We ...\n",
       "2    The evolution of the Earth-Moon system based o...\n",
       "3    A determinant of Stirling cycle numbers counts...\n",
       "4    From dyadic $\\Lambda_{\\alpha}$ to $\\Lambda_{\\a...\n",
       "Name: combined_text, dtype: object"
      ]
     },
     "execution_count": 23,
     "metadata": {},
     "output_type": "execute_result"
    }
   ],
   "source": [
    "from sentence_transformers import SentenceTransformer\n",
    "\n",
    "# Combine title + abstract into a new column\n",
    "df1['combined_text'] = df1['title'].astype(str) + \" \" + df1['abstract'].astype(str)\n",
    "df1['combined_text'].head()"
   ]
  },
  {
   "cell_type": "code",
   "execution_count": 24,
   "id": "626527b1-f2da-4166-bb92-1876bad146fa",
   "metadata": {},
   "outputs": [
    {
     "data": {
      "application/json": {
       "ascii": false,
       "bar_format": null,
       "colour": null,
       "elapsed": 0.006151437759399414,
       "initial": 0,
       "n": 0,
       "ncols": null,
       "nrows": 29,
       "postfix": null,
       "prefix": "Batches",
       "rate": null,
       "total": 313,
       "unit": "it",
       "unit_divisor": 1000,
       "unit_scale": false
      },
      "application/vnd.jupyter.widget-view+json": {
       "model_id": "052157593e334d09b390255760bf4bb1",
       "version_major": 2,
       "version_minor": 0
      },
      "text/plain": [
       "Batches:   0%|          | 0/313 [00:00<?, ?it/s]"
      ]
     },
     "metadata": {},
     "output_type": "display_data"
    },
    {
     "name": "stdout",
     "output_type": "stream",
     "text": [
      "✅ Embedding shape: (10000, 384)\n"
     ]
    }
   ],
   "source": [
    "# Load SentenceTransformer model\n",
    "model = SentenceTransformer('all-MiniLM-L6-v2')\n",
    "\n",
    "# Generate embeddings\n",
    "embeddings = model.encode(df1['combined_text'].tolist(), show_progress_bar=True)\n",
    "\n",
    "print(\"✅ Embedding shape:\", embeddings.shape)"
   ]
  },
  {
   "cell_type": "code",
   "execution_count": 25,
   "id": "539973b5-6b65-45d3-a866-71874bd47284",
   "metadata": {},
   "outputs": [
    {
     "name": "stdout",
     "output_type": "stream",
     "text": [
      "Collecting faiss-cpuNote: you may need to restart the kernel to use updated packages.\n",
      "\n",
      "  Downloading faiss_cpu-1.11.0.post1-cp310-cp310-win_amd64.whl.metadata (5.1 kB)\n",
      "Requirement already satisfied: numpy<3.0,>=1.25.0 in c:\\users\\91873\\appdata\\local\\programs\\python\\python310\\lib\\site-packages (from faiss-cpu) (1.26.0)\n",
      "Requirement already satisfied: packaging in c:\\users\\91873\\appdata\\local\\programs\\python\\python310\\lib\\site-packages (from faiss-cpu) (24.2)\n",
      "Downloading faiss_cpu-1.11.0.post1-cp310-cp310-win_amd64.whl (14.9 MB)\n",
      "   ---------------------------------------- 0.0/14.9 MB ? eta -:--:--\n",
      "   ----------- ---------------------------- 4.2/14.9 MB 21.0 MB/s eta 0:00:01\n",
      "   ------------------------ --------------- 9.2/14.9 MB 22.0 MB/s eta 0:00:01\n",
      "   -------------------------------------- - 14.4/14.9 MB 22.6 MB/s eta 0:00:01\n",
      "   ---------------------------------------- 14.9/14.9 MB 20.8 MB/s eta 0:00:00\n",
      "Installing collected packages: faiss-cpu\n",
      "Successfully installed faiss-cpu-1.11.0.post1\n"
     ]
    }
   ],
   "source": [
    "pip install faiss-cpu"
   ]
  },
  {
   "cell_type": "code",
   "execution_count": 26,
   "id": "bc08abe9-7ce4-4076-9bb7-b120696dd60e",
   "metadata": {},
   "outputs": [],
   "source": [
    "import faiss\n",
    "import numpy as np"
   ]
  },
  {
   "cell_type": "code",
   "execution_count": 27,
   "id": "b4a83145-d108-4d27-9886-e8bacaa02feb",
   "metadata": {},
   "outputs": [
    {
     "name": "stdout",
     "output_type": "stream",
     "text": [
      "(10000, 384)\n"
     ]
    }
   ],
   "source": [
    "print(embeddings.shape)  # Should show (10000, 384)"
   ]
  },
  {
   "cell_type": "code",
   "execution_count": 28,
   "id": "6f132237-e225-49c5-a98a-ba32e47a511f",
   "metadata": {},
   "outputs": [],
   "source": [
    "#Initialize FAISS Index\n",
    "embedding_dimension = embeddings.shape[1]  # 384 for MiniLM\n",
    "\n",
    "index = faiss.IndexFlatL2(embedding_dimension)  # Using L2 distance\n"
   ]
  },
  {
   "cell_type": "code",
   "execution_count": 29,
   "id": "9f548d19-fc89-4a8a-ab60-bbe842db3699",
   "metadata": {},
   "outputs": [
    {
     "name": "stdout",
     "output_type": "stream",
     "text": [
      "Total items in index: 10000\n"
     ]
    }
   ],
   "source": [
    "# Add Embeddings to the Index\n",
    "index.add(np.array(embeddings).astype('float32'))\n",
    "print(\"Total items in index:\", index.ntotal)\n"
   ]
  },
  {
   "cell_type": "code",
   "execution_count": 30,
   "id": "8ec8b881-4234-40e0-ac20-0b8f5e4aabe6",
   "metadata": {},
   "outputs": [
    {
     "name": "stdout",
     "output_type": "stream",
     "text": [
      "Index saved as arxiv_10000_faiss.index\n"
     ]
    }
   ],
   "source": [
    "#Save the Index\n",
    "faiss.write_index(index, \"arxiv_10000_faiss.index\")\n",
    "print(\"Index saved as arxiv_10000_faiss.index\")"
   ]
  },
  {
   "cell_type": "code",
   "execution_count": 31,
   "id": "7abbd11d-3f7d-4918-b207-3aa93ddac32c",
   "metadata": {},
   "outputs": [],
   "source": [
    "# Example Query Search\n",
    "query = \"deep learning for image recognition\"\n",
    "query_embedding = model.encode([query])\n"
   ]
  },
  {
   "cell_type": "code",
   "execution_count": 32,
   "id": "3c3aee79-89ec-4d07-8a81-27f749b3da77",
   "metadata": {},
   "outputs": [
    {
     "name": "stdout",
     "output_type": "stream",
     "text": [
      "Indices of top results: [[6013 3514 4495 2727 2724]]\n",
      "Distances: [[1.2162058 1.2644072 1.3430982 1.3829836 1.3961192]]\n"
     ]
    }
   ],
   "source": [
    "D, I = index.search(np.array(query_embedding).astype('float32'), k=5)  # Top 5 matches\n",
    "\n",
    "print(\"Indices of top results:\", I)\n",
    "print(\"Distances:\", D)\n"
   ]
  },
  {
   "cell_type": "code",
   "execution_count": 33,
   "id": "9d818c8c-d5ae-4474-aefe-060409321ff8",
   "metadata": {},
   "outputs": [
    {
     "name": "stdout",
     "output_type": "stream",
     "text": [
      "            id                                              title  \\\n",
      "6013  705.2011        Multi-Dimensional Recurrent Neural Networks   \n",
      "3514  704.3515  Comparing Robustness of Pairwise and Multiclas...   \n",
      "4495  705.0493  How to Find More Supernovae with Less Work: Ob...   \n",
      "2727  704.2728  An automated system for lung nodule detection ...   \n",
      "2724  704.2725  Exploiting Heavy Tails in Training Times of Mu...   \n",
      "\n",
      "                                               abstract  \n",
      "6013    Recurrent neural networks (RNNs) have proved...  \n",
      "3514    Noise, corruptions and variations in face im...  \n",
      "4495    We present the results of applying new objec...  \n",
      "2727    A computer-aided detection (CAD) system for ...  \n",
      "2724    The random initialization of weights of a mu...  \n"
     ]
    }
   ],
   "source": [
    "results = df.iloc[I[0]]\n",
    "print(results[['id', 'title', 'abstract']])\n"
   ]
  },
  {
   "cell_type": "code",
   "execution_count": 34,
   "id": "764f460d-8e4c-4507-b54e-4e11605b23d5",
   "metadata": {},
   "outputs": [],
   "source": [
    "#Build the Retrieval Function\n",
    "\n",
    "# Load FAISS index\n",
    "index = faiss.read_index(\"arxiv_10000_faiss.index\")\n",
    "\n",
    "# Load your embedding model\n",
    "model = SentenceTransformer('all-MiniLM-L6-v2')"
   ]
  },
  {
   "cell_type": "code",
   "execution_count": 35,
   "id": "54c4fae3-9e9a-4c9e-bf78-1f35e7bb77aa",
   "metadata": {},
   "outputs": [],
   "source": [
    "# Define Search Function\n",
    "def search_papers(query, top_k=5):\n",
    "    # Convert query to embedding\n",
    "    query_embedding = model.encode([query]).astype('float32')\n",
    "    \n",
    "    # Search FAISS index\n",
    "    D, I = index.search(query_embedding, k=top_k)\n",
    "\n",
    "    # Retrieve matching rows\n",
    "    results = df1.iloc[I[0]].copy()\n",
    "    results['distance'] = D[0]\n",
    "    \n",
    "    return results[['id', 'title', 'abstract', 'categories', 'authors', 'distance']]\n"
   ]
  },
  {
   "cell_type": "code",
   "execution_count": 36,
   "id": "316f02c2-bad1-4815-bc2c-c87003c5f1c7",
   "metadata": {},
   "outputs": [
    {
     "name": "stdout",
     "output_type": "stream",
     "text": [
      "            id                                              title  \\\n",
      "8986  706.0300  Automatic Detection of Pulmonary Embolism usin...   \n",
      "3452  704.3453  An Adaptive Strategy for the Classification of...   \n",
      "1027  704.1028    A neural network approach to ordinal regression   \n",
      "2727  704.2728  An automated system for lung nodule detection ...   \n",
      "4211  705.0209  Support vector machine for functional data cla...   \n",
      "\n",
      "                                               abstract  \\\n",
      "8986    This article describes the implementation of...   \n",
      "3452    One of the major problems in computational b...   \n",
      "1027    Ordinal regression is an important type of l...   \n",
      "2727    A computer-aided detection (CAD) system for ...   \n",
      "4211    In many applications, input data are sampled...   \n",
      "\n",
      "                     categories  \\\n",
      "8986                      cs.CV   \n",
      "3452            cs.AI; q-bio.QM   \n",
      "1027        cs.LG; cs.AI; cs.NE   \n",
      "2727             physics.med-ph   \n",
      "4211  math.ST; stat.ML; stat.TH   \n",
      "\n",
      "                                                authors  distance  \n",
      "8986  Simon Scurrell; Tshilidzi Marwala and David Rubin  1.234316  \n",
      "3452               S. Mohamed; D. Rubin; and T. Marwala  1.272804  \n",
      "1027                                      Jianlin Cheng  1.275277  \n",
      "2727  I. Gori; M.E. Fantacci; A. Preite Martinez; A....  1.286127  \n",
      "4211  Fabrice Rossi (INRIA Rocquencourt / INRIA Soph...  1.300889  \n"
     ]
    }
   ],
   "source": [
    "results = search_papers(\"machine learning for healthcare\", top_k=5)\n",
    "print(results)\n"
   ]
  },
  {
   "cell_type": "code",
   "execution_count": 37,
   "id": "0ac7e3c2-be77-413f-a0c5-a50419250f01",
   "metadata": {},
   "outputs": [],
   "source": [
    "# Batch Search System (Multiple Queries at Once)\n",
    "def batch_search(queries, top_k=5):\n",
    "    # Encode all queries at once\n",
    "    query_embeddings = model.encode(queries).astype('float32')\n",
    "    \n",
    "    # Search for each query\n",
    "    all_results = []\n",
    "\n",
    "    for i, query in enumerate(queries):\n",
    "        D, I = index.search(query_embeddings[i:i+1], k=top_k)\n",
    "        results = df1.iloc[I[0]].copy()\n",
    "        results['distance'] = D[0]\n",
    "        results['query'] = query\n",
    "        all_results.append(results)\n",
    "\n",
    "    return pd.concat(all_results).reset_index(drop=True)\n"
   ]
  },
  {
   "cell_type": "code",
   "execution_count": 38,
   "id": "c5bf9ab5-243e-4d09-a8fa-f3b6569e04f2",
   "metadata": {},
   "outputs": [
    {
     "name": "stdout",
     "output_type": "stream",
     "text": [
      "                                         query  \\\n",
      "0         neural networks for image processing   \n",
      "1         neural networks for image processing   \n",
      "2         neural networks for image processing   \n",
      "3  optimization techniques in machine learning   \n",
      "4  optimization techniques in machine learning   \n",
      "5  optimization techniques in machine learning   \n",
      "6       physics papers about quantum mechanics   \n",
      "7       physics papers about quantum mechanics   \n",
      "8       physics papers about quantum mechanics   \n",
      "\n",
      "                                               title  distance  \n",
      "0  Artificial Neural Networks and Support Vector ...  1.175495  \n",
      "1  Structural Health Monitoring Using Neural Netw...  1.190225  \n",
      "2  Machine and Component Residual Life Estimation...  1.201896  \n",
      "3                 Stochastic Optimization Algorithms  0.929610  \n",
      "4   Parametric Learning and Monte Carlo Optimization  1.010860  \n",
      "5  A Novel Model of Working Set Selection for SMO...  1.012408  \n",
      "6  Recent experiments performed at \"Carlo Novero\"...  0.895227  \n",
      "7  Developments in entanglement theory and applic...  0.948736  \n",
      "8  From semiconductors to quantum gravity: to cen...  0.965493  \n"
     ]
    }
   ],
   "source": [
    "queries = [\n",
    "    \"neural networks for image processing\",\n",
    "    \"optimization techniques in machine learning\",\n",
    "    \"physics papers about quantum mechanics\"\n",
    "]\n",
    "\n",
    "batch_results = batch_search(queries, top_k=3)\n",
    "print(batch_results[['query', 'title', 'distance']])\n"
   ]
  },
  {
   "cell_type": "code",
   "execution_count": 39,
   "id": "b2e4bdc9-5d57-4c93-8e25-330ebcb71001",
   "metadata": {},
   "outputs": [
    {
     "name": "stdout",
     "output_type": "stream",
     "text": [
      "Collecting streamlit\n",
      "  Downloading streamlit-1.47.0-py3-none-any.whl.metadata (9.0 kB)\n",
      "Collecting altair<6,>=4.0 (from streamlit)\n",
      "  Downloading altair-5.5.0-py3-none-any.whl.metadata (11 kB)\n",
      "Collecting blinker<2,>=1.5.0 (from streamlit)\n",
      "  Downloading blinker-1.9.0-py3-none-any.whl.metadata (1.6 kB)\n",
      "Collecting cachetools<7,>=4.0 (from streamlit)\n",
      "  Downloading cachetools-6.1.0-py3-none-any.whl.metadata (5.4 kB)\n",
      "Requirement already satisfied: click<9,>=7.0 in c:\\users\\91873\\appdata\\local\\programs\\python\\python310\\lib\\site-packages (from streamlit) (8.0.4)\n",
      "Requirement already satisfied: numpy<3,>=1.23 in c:\\users\\91873\\appdata\\local\\programs\\python\\python310\\lib\\site-packages (from streamlit) (1.26.0)\n",
      "Requirement already satisfied: packaging<26,>=20 in c:\\users\\91873\\appdata\\local\\programs\\python\\python310\\lib\\site-packages (from streamlit) (24.2)\n",
      "Requirement already satisfied: pandas<3,>=1.4.0 in c:\\users\\91873\\appdata\\local\\programs\\python\\python310\\lib\\site-packages (from streamlit) (2.2.3)\n",
      "Requirement already satisfied: pillow<12,>=7.1.0 in c:\\users\\91873\\appdata\\local\\programs\\python\\python310\\lib\\site-packages (from streamlit) (9.0.1)\n",
      "Requirement already satisfied: protobuf<7,>=3.20 in c:\\users\\91873\\appdata\\local\\programs\\python\\python310\\lib\\site-packages (from streamlit) (5.29.3)\n",
      "Collecting pyarrow>=7.0 (from streamlit)\n",
      "  Downloading pyarrow-20.0.0-cp310-cp310-win_amd64.whl.metadata (3.4 kB)\n",
      "Requirement already satisfied: requests<3,>=2.27 in c:\\users\\91873\\appdata\\local\\programs\\python\\python310\\lib\\site-packages (from streamlit) (2.32.3)\n",
      "Collecting tenacity<10,>=8.1.0 (from streamlit)\n",
      "  Downloading tenacity-9.1.2-py3-none-any.whl.metadata (1.2 kB)\n",
      "Collecting toml<2,>=0.10.1 (from streamlit)\n",
      "  Downloading toml-0.10.2-py2.py3-none-any.whl.metadata (7.1 kB)\n",
      "Requirement already satisfied: typing-extensions<5,>=4.4.0 in c:\\users\\91873\\appdata\\local\\programs\\python\\python310\\lib\\site-packages (from streamlit) (4.12.2)\n",
      "Collecting watchdog<7,>=2.1.5 (from streamlit)\n",
      "  Downloading watchdog-6.0.0-py3-none-win_amd64.whl.metadata (44 kB)\n",
      "Collecting gitpython!=3.1.19,<4,>=3.0.7 (from streamlit)\n",
      "  Downloading GitPython-3.1.44-py3-none-any.whl.metadata (13 kB)\n",
      "Collecting pydeck<1,>=0.8.0b4 (from streamlit)\n",
      "  Downloading pydeck-0.9.1-py2.py3-none-any.whl.metadata (4.1 kB)\n",
      "Requirement already satisfied: tornado!=6.5.0,<7,>=6.0.3 in c:\\users\\91873\\appdata\\local\\programs\\python\\python310\\lib\\site-packages (from streamlit) (6.4.1)\n",
      "Requirement already satisfied: jinja2 in c:\\users\\91873\\appdata\\local\\programs\\python\\python310\\lib\\site-packages (from altair<6,>=4.0->streamlit) (3.1.4)\n",
      "Requirement already satisfied: jsonschema>=3.0 in c:\\users\\91873\\appdata\\local\\programs\\python\\python310\\lib\\site-packages (from altair<6,>=4.0->streamlit) (4.23.0)\n",
      "Collecting narwhals>=1.14.2 (from altair<6,>=4.0->streamlit)\n",
      "  Downloading narwhals-1.47.1-py3-none-any.whl.metadata (11 kB)\n",
      "Requirement already satisfied: colorama in c:\\users\\91873\\appdata\\local\\programs\\python\\python310\\lib\\site-packages (from click<9,>=7.0->streamlit) (0.4.4)\n",
      "Collecting gitdb<5,>=4.0.1 (from gitpython!=3.1.19,<4,>=3.0.7->streamlit)\n",
      "  Downloading gitdb-4.0.12-py3-none-any.whl.metadata (1.2 kB)\n",
      "Collecting smmap<6,>=3.0.1 (from gitdb<5,>=4.0.1->gitpython!=3.1.19,<4,>=3.0.7->streamlit)\n",
      "  Downloading smmap-5.0.2-py3-none-any.whl.metadata (4.3 kB)\n",
      "Requirement already satisfied: python-dateutil>=2.8.2 in c:\\users\\91873\\appdata\\local\\programs\\python\\python310\\lib\\site-packages (from pandas<3,>=1.4.0->streamlit) (2.8.2)\n",
      "Requirement already satisfied: pytz>=2020.1 in c:\\users\\91873\\appdata\\local\\programs\\python\\python310\\lib\\site-packages (from pandas<3,>=1.4.0->streamlit) (2021.3)\n",
      "Requirement already satisfied: tzdata>=2022.7 in c:\\users\\91873\\appdata\\local\\programs\\python\\python310\\lib\\site-packages (from pandas<3,>=1.4.0->streamlit) (2024.2)\n",
      "Requirement already satisfied: charset-normalizer<4,>=2 in c:\\users\\91873\\appdata\\local\\programs\\python\\python310\\lib\\site-packages (from requests<3,>=2.27->streamlit) (3.4.1)\n",
      "Requirement already satisfied: idna<4,>=2.5 in c:\\users\\91873\\appdata\\local\\programs\\python\\python310\\lib\\site-packages (from requests<3,>=2.27->streamlit) (3.10)\n",
      "Requirement already satisfied: urllib3<3,>=1.21.1 in c:\\users\\91873\\appdata\\local\\programs\\python\\python310\\lib\\site-packages (from requests<3,>=2.27->streamlit) (2.3.0)\n",
      "Requirement already satisfied: certifi>=2017.4.17 in c:\\users\\91873\\appdata\\local\\programs\\python\\python310\\lib\\site-packages (from requests<3,>=2.27->streamlit) (2024.12.14)\n",
      "Requirement already satisfied: MarkupSafe>=2.0 in c:\\users\\91873\\appdata\\local\\programs\\python\\python310\\lib\\site-packages (from jinja2->altair<6,>=4.0->streamlit) (3.0.2)\n",
      "Requirement already satisfied: attrs>=22.2.0 in c:\\users\\91873\\appdata\\local\\programs\\python\\python310\\lib\\site-packages (from jsonschema>=3.0->altair<6,>=4.0->streamlit) (24.2.0)\n",
      "Requirement already satisfied: jsonschema-specifications>=2023.03.6 in c:\\users\\91873\\appdata\\local\\programs\\python\\python310\\lib\\site-packages (from jsonschema>=3.0->altair<6,>=4.0->streamlit) (2024.10.1)\n",
      "Requirement already satisfied: referencing>=0.28.4 in c:\\users\\91873\\appdata\\local\\programs\\python\\python310\\lib\\site-packages (from jsonschema>=3.0->altair<6,>=4.0->streamlit) (0.35.1)\n",
      "Requirement already satisfied: rpds-py>=0.7.1 in c:\\users\\91873\\appdata\\local\\programs\\python\\python310\\lib\\site-packages (from jsonschema>=3.0->altair<6,>=4.0->streamlit) (0.20.0)\n",
      "Requirement already satisfied: six>=1.5 in c:\\users\\91873\\appdata\\local\\programs\\python\\python310\\lib\\site-packages (from python-dateutil>=2.8.2->pandas<3,>=1.4.0->streamlit) (1.17.0)\n",
      "Downloading streamlit-1.47.0-py3-none-any.whl (9.9 MB)\n",
      "   ---------------------------------------- 0.0/9.9 MB ? eta -:--:--\n",
      "   ----------------- ---------------------- 4.5/9.9 MB 22.4 MB/s eta 0:00:01\n",
      "   ----------------------------------- ---- 8.9/9.9 MB 21.3 MB/s eta 0:00:01\n",
      "   ---------------------------------------- 9.9/9.9 MB 19.4 MB/s eta 0:00:00\n",
      "Downloading altair-5.5.0-py3-none-any.whl (731 kB)\n",
      "   ---------------------------------------- 0.0/731.2 kB ? eta -:--:--\n",
      "   --------------------------------------- 731.2/731.2 kB 10.0 MB/s eta 0:00:00\n",
      "Downloading blinker-1.9.0-py3-none-any.whl (8.5 kB)\n",
      "Downloading cachetools-6.1.0-py3-none-any.whl (11 kB)\n",
      "Downloading GitPython-3.1.44-py3-none-any.whl (207 kB)\n",
      "Downloading gitdb-4.0.12-py3-none-any.whl (62 kB)\n",
      "Downloading pydeck-0.9.1-py2.py3-none-any.whl (6.9 MB)\n",
      "   ---------------------------------------- 0.0/6.9 MB ? eta -:--:--\n",
      "   ------------------------ --------------- 4.2/6.9 MB 21.0 MB/s eta 0:00:01\n",
      "   ---------------------------------------- 6.9/6.9 MB 19.3 MB/s eta 0:00:00\n",
      "Downloading smmap-5.0.2-py3-none-any.whl (24 kB)\n",
      "Downloading tenacity-9.1.2-py3-none-any.whl (28 kB)\n",
      "Downloading toml-0.10.2-py2.py3-none-any.whl (16 kB)\n",
      "Downloading watchdog-6.0.0-py3-none-win_amd64.whl (79 kB)\n",
      "Downloading narwhals-1.47.1-py3-none-any.whl (375 kB)\n",
      "Downloading pyarrow-20.0.0-cp310-cp310-win_amd64.whl (25.8 MB)\n",
      "   ---------------------------------------- 0.0/25.8 MB ? eta -:--:--\n",
      "   ------ --------------------------------- 4.2/25.8 MB 20.9 MB/s eta 0:00:02\n",
      "   ------------- -------------------------- 8.4/25.8 MB 20.0 MB/s eta 0:00:01\n",
      "   ------------------- -------------------- 12.8/25.8 MB 20.1 MB/s eta 0:00:01\n",
      "   -------------------------- ------------- 17.3/25.8 MB 20.6 MB/s eta 0:00:01\n",
      "   --------------------------------- ------ 21.5/25.8 MB 20.6 MB/s eta 0:00:01\n",
      "   ---------------------------------------  25.7/25.8 MB 20.3 MB/s eta 0:00:01\n",
      "   ---------------------------------------- 25.8/25.8 MB 19.0 MB/s eta 0:00:00\n",
      "Installing collected packages: watchdog, toml, tenacity, smmap, pyarrow, narwhals, cachetools, blinker, pydeck, gitdb, gitpython, altair, streamlit\n",
      "\n",
      "   ----------------------------------------  0/13 [watchdog]\n",
      "   ----------------------------------------  0/13 [watchdog]\n",
      "   ----------------------------------------  0/13 [watchdog]\n",
      "   ----------------------------------------  0/13 [watchdog]\n",
      "   ----------------------------------------  0/13 [watchdog]\n",
      "   ----------------------------------------  0/13 [watchdog]\n",
      "   --- ------------------------------------  1/13 [toml]\n",
      "   ------ ---------------------------------  2/13 [tenacity]\n",
      "   ------ ---------------------------------  2/13 [tenacity]\n",
      "   ------ ---------------------------------  2/13 [tenacity]\n",
      "   --------- ------------------------------  3/13 [smmap]\n",
      "   ------------ ---------------------------  4/13 [pyarrow]\n",
      "   ------------ ---------------------------  4/13 [pyarrow]\n",
      "   ------------ ---------------------------  4/13 [pyarrow]\n",
      "   ------------ ---------------------------  4/13 [pyarrow]\n",
      "   ------------ ---------------------------  4/13 [pyarrow]\n",
      "   ------------ ---------------------------  4/13 [pyarrow]\n",
      "   ------------ ---------------------------  4/13 [pyarrow]\n",
      "   ------------ ---------------------------  4/13 [pyarrow]\n",
      "   ------------ ---------------------------  4/13 [pyarrow]\n",
      "   ------------ ---------------------------  4/13 [pyarrow]\n",
      "   ------------ ---------------------------  4/13 [pyarrow]\n",
      "   ------------ ---------------------------  4/13 [pyarrow]\n",
      "   ------------ ---------------------------  4/13 [pyarrow]\n",
      "   ------------ ---------------------------  4/13 [pyarrow]\n",
      "   ------------ ---------------------------  4/13 [pyarrow]\n",
      "   ------------ ---------------------------  4/13 [pyarrow]\n",
      "   ------------ ---------------------------  4/13 [pyarrow]\n",
      "   ------------ ---------------------------  4/13 [pyarrow]\n",
      "   ------------ ---------------------------  4/13 [pyarrow]\n",
      "   ------------ ---------------------------  4/13 [pyarrow]\n",
      "   ------------ ---------------------------  4/13 [pyarrow]\n",
      "   ------------ ---------------------------  4/13 [pyarrow]\n",
      "   ------------ ---------------------------  4/13 [pyarrow]\n",
      "   ------------ ---------------------------  4/13 [pyarrow]\n",
      "   ------------ ---------------------------  4/13 [pyarrow]\n",
      "   ------------ ---------------------------  4/13 [pyarrow]\n",
      "   ------------ ---------------------------  4/13 [pyarrow]\n",
      "   ------------ ---------------------------  4/13 [pyarrow]\n",
      "   --------------- ------------------------  5/13 [narwhals]\n",
      "   --------------- ------------------------  5/13 [narwhals]\n",
      "   --------------- ------------------------  5/13 [narwhals]\n",
      "   --------------- ------------------------  5/13 [narwhals]\n",
      "   --------------- ------------------------  5/13 [narwhals]\n",
      "   --------------- ------------------------  5/13 [narwhals]\n",
      "   --------------- ------------------------  5/13 [narwhals]\n",
      "   --------------- ------------------------  5/13 [narwhals]\n",
      "   --------------- ------------------------  5/13 [narwhals]\n",
      "   --------------- ------------------------  5/13 [narwhals]\n",
      "   --------------- ------------------------  5/13 [narwhals]\n",
      "   --------------- ------------------------  5/13 [narwhals]\n",
      "   --------------- ------------------------  5/13 [narwhals]\n",
      "   --------------- ------------------------  5/13 [narwhals]\n",
      "   --------------- ------------------------  5/13 [narwhals]\n",
      "   --------------- ------------------------  5/13 [narwhals]\n",
      "   ------------------ ---------------------  6/13 [cachetools]\n",
      "   ------------------------ ---------------  8/13 [pydeck]\n",
      "   ------------------------ ---------------  8/13 [pydeck]\n",
      "   ------------------------ ---------------  8/13 [pydeck]\n",
      "   ------------------------ ---------------  8/13 [pydeck]\n",
      "   --------------------------- ------------  9/13 [gitdb]\n",
      "   --------------------------- ------------  9/13 [gitdb]\n",
      "   --------------------------- ------------  9/13 [gitdb]\n",
      "   ------------------------------ --------- 10/13 [gitpython]\n",
      "   ------------------------------ --------- 10/13 [gitpython]\n",
      "   ------------------------------ --------- 10/13 [gitpython]\n",
      "   ------------------------------ --------- 10/13 [gitpython]\n",
      "   --------------------------------- ------ 11/13 [altair]\n",
      "   --------------------------------- ------ 11/13 [altair]\n",
      "   --------------------------------- ------ 11/13 [altair]\n",
      "   --------------------------------- ------ 11/13 [altair]\n",
      "   --------------------------------- ------ 11/13 [altair]\n",
      "   --------------------------------- ------ 11/13 [altair]\n",
      "   --------------------------------- ------ 11/13 [altair]\n",
      "   --------------------------------- ------ 11/13 [altair]\n",
      "   ------------------------------------ --- 12/13 [streamlit]\n",
      "   ------------------------------------ --- 12/13 [streamlit]\n",
      "   ------------------------------------ --- 12/13 [streamlit]\n",
      "   ------------------------------------ --- 12/13 [streamlit]\n",
      "   ------------------------------------ --- 12/13 [streamlit]\n",
      "   ------------------------------------ --- 12/13 [streamlit]\n",
      "   ------------------------------------ --- 12/13 [streamlit]\n",
      "   ------------------------------------ --- 12/13 [streamlit]\n",
      "   ------------------------------------ --- 12/13 [streamlit]\n",
      "   ------------------------------------ --- 12/13 [streamlit]\n",
      "   ------------------------------------ --- 12/13 [streamlit]\n",
      "   ------------------------------------ --- 12/13 [streamlit]\n",
      "   ------------------------------------ --- 12/13 [streamlit]\n",
      "   ------------------------------------ --- 12/13 [streamlit]\n",
      "   ------------------------------------ --- 12/13 [streamlit]\n",
      "   ------------------------------------ --- 12/13 [streamlit]\n",
      "   ------------------------------------ --- 12/13 [streamlit]\n",
      "   ------------------------------------ --- 12/13 [streamlit]\n",
      "   ------------------------------------ --- 12/13 [streamlit]\n",
      "   ------------------------------------ --- 12/13 [streamlit]\n",
      "   ------------------------------------ --- 12/13 [streamlit]\n",
      "   ------------------------------------ --- 12/13 [streamlit]\n",
      "   ------------------------------------ --- 12/13 [streamlit]\n",
      "   ------------------------------------ --- 12/13 [streamlit]\n",
      "   ------------------------------------ --- 12/13 [streamlit]\n",
      "   ------------------------------------ --- 12/13 [streamlit]\n",
      "   ------------------------------------ --- 12/13 [streamlit]\n",
      "   ------------------------------------ --- 12/13 [streamlit]\n",
      "   ------------------------------------ --- 12/13 [streamlit]\n",
      "   ------------------------------------ --- 12/13 [streamlit]\n",
      "   ------------------------------------ --- 12/13 [streamlit]\n",
      "   ------------------------------------ --- 12/13 [streamlit]\n",
      "   ------------------------------------ --- 12/13 [streamlit]\n",
      "   ------------------------------------ --- 12/13 [streamlit]\n",
      "   ------------------------------------ --- 12/13 [streamlit]\n",
      "   ------------------------------------ --- 12/13 [streamlit]\n",
      "   ------------------------------------ --- 12/13 [streamlit]\n",
      "   ---------------------------------------- 13/13 [streamlit]\n",
      "\n",
      "Successfully installed altair-5.5.0 blinker-1.9.0 cachetools-6.1.0 gitdb-4.0.12 gitpython-3.1.44 narwhals-1.47.1 pyarrow-20.0.0 pydeck-0.9.1 smmap-5.0.2 streamlit-1.47.0 tenacity-9.1.2 toml-0.10.2 watchdog-6.0.0\n",
      "Note: you may need to restart the kernel to use updated packages.\n"
     ]
    }
   ],
   "source": [
    "pip install streamlit"
   ]
  },
  {
   "cell_type": "code",
   "execution_count": 40,
   "id": "86c63e72-1d96-4125-a30f-ad6ad759395f",
   "metadata": {
    "scrolled": true
   },
   "outputs": [
    {
     "name": "stderr",
     "output_type": "stream",
     "text": [
      "2025-07-17 22:14:17.150 WARNING streamlit.runtime.scriptrunner_utils.script_run_context: Thread 'MainThread': missing ScriptRunContext! This warning can be ignored when running in bare mode.\n",
      "2025-07-17 22:14:18.786 \n",
      "  \u001b[33m\u001b[1mWarning:\u001b[0m to view this Streamlit app on a browser, run it with the following\n",
      "  command:\n",
      "\n",
      "    streamlit run C:\\Users\\91873\\AppData\\Local\\Programs\\Python\\Python310\\lib\\site-packages\\ipykernel_launcher.py [ARGUMENTS]\n",
      "2025-07-17 22:14:18.795 Thread 'MainThread': missing ScriptRunContext! This warning can be ignored when running in bare mode.\n",
      "2025-07-17 22:14:18.795 Thread 'MainThread': missing ScriptRunContext! This warning can be ignored when running in bare mode.\n",
      "2025-07-17 22:14:18.795 Thread 'MainThread': missing ScriptRunContext! This warning can be ignored when running in bare mode.\n",
      "2025-07-17 22:14:18.795 Thread 'MainThread': missing ScriptRunContext! This warning can be ignored when running in bare mode.\n",
      "2025-07-17 22:14:18.795 Thread 'MainThread': missing ScriptRunContext! This warning can be ignored when running in bare mode.\n",
      "2025-07-17 22:14:18.800 Thread 'MainThread': missing ScriptRunContext! This warning can be ignored when running in bare mode.\n",
      "2025-07-17 22:14:18.800 Session state does not function when running a script without `streamlit run`\n",
      "2025-07-17 22:14:18.804 Thread 'MainThread': missing ScriptRunContext! This warning can be ignored when running in bare mode.\n",
      "2025-07-17 22:14:18.808 Thread 'MainThread': missing ScriptRunContext! This warning can be ignored when running in bare mode.\n",
      "2025-07-17 22:14:18.810 Thread 'MainThread': missing ScriptRunContext! This warning can be ignored when running in bare mode.\n",
      "2025-07-17 22:14:18.812 Thread 'MainThread': missing ScriptRunContext! This warning can be ignored when running in bare mode.\n",
      "2025-07-17 22:14:18.812 Thread 'MainThread': missing ScriptRunContext! This warning can be ignored when running in bare mode.\n",
      "2025-07-17 22:14:18.816 Thread 'MainThread': missing ScriptRunContext! This warning can be ignored when running in bare mode.\n",
      "2025-07-17 22:14:18.819 Thread 'MainThread': missing ScriptRunContext! This warning can be ignored when running in bare mode.\n",
      "2025-07-17 22:14:18.819 Thread 'MainThread': missing ScriptRunContext! This warning can be ignored when running in bare mode.\n",
      "2025-07-17 22:14:18.819 Thread 'MainThread': missing ScriptRunContext! This warning can be ignored when running in bare mode.\n",
      "2025-07-17 22:14:18.825 Thread 'MainThread': missing ScriptRunContext! This warning can be ignored when running in bare mode.\n",
      "2025-07-17 22:14:18.825 Thread 'MainThread': missing ScriptRunContext! This warning can be ignored when running in bare mode.\n",
      "2025-07-17 22:14:18.827 Thread 'MainThread': missing ScriptRunContext! This warning can be ignored when running in bare mode.\n",
      "2025-07-17 22:14:18.831 Thread 'MainThread': missing ScriptRunContext! This warning can be ignored when running in bare mode.\n",
      "2025-07-17 22:14:18.834 Thread 'MainThread': missing ScriptRunContext! This warning can be ignored when running in bare mode.\n",
      "2025-07-17 22:14:18.836 Thread 'MainThread': missing ScriptRunContext! This warning can be ignored when running in bare mode.\n"
     ]
    }
   ],
   "source": [
    "import streamlit as st\n",
    "\n",
    "# Streamlit UI layout\n",
    "st.title(\"InsightMiner: Academic Paper Search\")\n",
    "\n",
    "# Input box for single or batch queries\n",
    "query_input = st.text_area(\"Enter one or more search queries (one per line):\")\n",
    "\n",
    "top_k = st.slider(\"Number of results per query:\", 1, 10, 3)\n",
    "\n",
    "if st.button(\"Search\"):\n",
    "    if query_input.strip():\n",
    "        queries = query_input.strip().split('\\n')\n",
    "        results = batch_search(queries, top_k=top_k)\n",
    "        \n",
    "        # Display in Streamlit table\n",
    "        st.write(results[['query', 'title', 'authors', 'categories', 'distance']])\n",
    "    else:\n",
    "        st.warning(\"Please enter at least one query.\")\n"
   ]
  },
  {
   "cell_type": "code",
   "execution_count": null,
   "id": "eda675bb-e737-44e7-8cb5-d3290b5fbcb4",
   "metadata": {},
   "outputs": [],
   "source": []
  }
 ],
 "metadata": {
  "kernelspec": {
   "display_name": "Python 3 (ipykernel)",
   "language": "python",
   "name": "python3"
  },
  "language_info": {
   "codemirror_mode": {
    "name": "ipython",
    "version": 3
   },
   "file_extension": ".py",
   "mimetype": "text/x-python",
   "name": "python",
   "nbconvert_exporter": "python",
   "pygments_lexer": "ipython3",
   "version": "3.10.2"
  }
 },
 "nbformat": 4,
 "nbformat_minor": 5
}
